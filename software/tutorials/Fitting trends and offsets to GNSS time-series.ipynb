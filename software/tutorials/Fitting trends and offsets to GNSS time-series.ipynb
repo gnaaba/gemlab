{
 "cells": [
  {
   "cell_type": "markdown",
   "id": "b8ea8953",
   "metadata": {},
   "source": [
    "# Fitting GNSS time-series"
   ]
  },
  {
   "cell_type": "markdown",
   "id": "00967a44",
   "metadata": {},
   "source": [
    "## Finding Location and Velocity data\n",
    "\n",
    "In this part of the lab we will learn about accessing GNSS time-series and velocity data. GNSS data is publicly available from __[UNAVCO](https://www.unavco.org/)__, a non-profit university-governed consortium that facilitates geoscience research and education using geodesy, and from the University of Nevada-Reno's __[MAGNET](http://geodesy.unr.edu/NGLStationPages/gpsnetmap/GPSNetMap_MAG.html)__ database. In this homework, you will download, plot, and analyze GNSS time-series from several stations. \n",
    "\n",
    "Original activity by Vince Cronin (Baylor University). Revisions by Beth Pratt-Sitaula (UNAVCO) and Jeremy Maurer (Missouri S&T)."
   ]
  },
  {
   "cell_type": "markdown",
   "id": "124651b6",
   "metadata": {},
   "source": [
    "*Analyzing the velocities recorded at different GPS stations can give significant insights into plate tectonic motion, earthquake hazards, volcanic hazards, groundwater removal, and more.*\n",
    "\n",
    "GPS data can be acquired from a variety of different research groups around the world, but some the most accessible and easy to use GPS data is continous data from the [Nevada Geodetic Laboratory](http://geodesy.unr.edu/index.php). \n",
    "You can access there data holdings [here](http://geodesy.unr.edu/NGLStationPages/gpsnetmap/GPSNetMap_MAG.html). "
   ]
  },
  {
   "cell_type": "markdown",
   "id": "67006c32",
   "metadata": {},
   "source": [
    "## Raw GNSS data\n",
    "In this lab we will not work with the raw GNSS data; this is because GNSS data for tectonic purposes is usually processed as a *network*, meaning a group of stations are processed all at once to obtain position information. This is different than what your phone or a typical GNSS receiver does, which is to estimate your position based on a single receiver. Network processing allows for much more precise positioning, because it allows the processing algorithm to solve for certain noise sources that are common to all stations and subtract it out. The image below shows an example of a Rinex file for GNSS station \"CAPO\" located in Haiti using a Trimble-brand GNSS receiver.\n",
    "![Rinex_file](https://raw.githubusercontent.com/jlmaurer/GE6146/master/notebooks/images/Rinex_file_example.png)\n",
    "\n",
    "[This link](https://observablehq.com/@earthscope/gnss-data-access?stations=%5B%22%22%5D&polygons=%7B%222d1b5ff0de7d0b62f6d12d23f3926612%22%3A%5B%5B-92.81370714148517%2C17.81371419134429%5D%2C%5B-88.03749150518303%2C18.056315555126048%5D%2C%5B-88.59429223683497%2C12.388274685195654%5D%2C%5B-92.61847094848122%2C13.721342747621904%5D%2C%5B-92.81370714148517%2C17.81371419134429%5D%5D%7D&rinex2Selections=%5B%22obs%22%5D&rinex3Selections=%5B%22obs%22%5D&referenceFrames=%5B%5D&analysisCenters=%5B%5D&sampleIntervalSelection=%5B%22%3E1%22%5D&antennaSelection=null&receiverSelection=null&radomeSelection=null&startDate=%221994-01-01T00%3A00%3A00.000Z%22&endDate=%222023-08-28T00%3A00%3A00.000Z%22) shows an example of all GNSS data (campaign and continuous) available in Guatemala from the EarthScope Consortium. "
   ]
  },
  {
   "cell_type": "markdown",
   "id": "469d416f",
   "metadata": {},
   "source": [
    "## GNSS time-series\n",
    "Most GNSS applications, including the earth sciences, use position time-series. The plot below shows an example time-series for station (P595) in California, near where the 2019 Ridgecrest earthquake occurred. The time-series shows the point location relative to the initial starting point for each day. GNSS records data continously, but the data are typically averaged to one position per day to reduce noise. The time-series provides several types of useful information. First, the points change at a fairly constant rate; in the plot, you can see that the position of the GNSS station moves west (negative east) at a rate of approximately 7 mm/yr, and north at approximately 10 mm/yr. The data shows a fairly constant rate of change until an event, which in this case is the Ridgecrest earthquake. You also see that the vertical motion is much noisier and has\n",
    "a much lower rate (the slope of the average trend is small).\n",
    "![P595.png](https://raw.githubusercontent.com/jlmaurer/GE6146/master/notebooks/images/P595.png)"
   ]
  },
  {
   "cell_type": "markdown",
   "id": "884d5580",
   "metadata": {},
   "source": [
    "## Detrended Time-series\n",
    "The next image shows a de-trended time-series, where the average rate has been subtracted from each day's point. The detrended time-series shows the total offset from the earthquake Ridgecrest earthquake, and it shows that the displacements after the earthquake are not zero right away, but there are some transients that take some time to dissipate.\n",
    "![P595_detrended.png](https://raw.githubusercontent.com/jlmaurer/GE6146/master/notebooks/images/P595_detrended.png)"
   ]
  },
  {
   "cell_type": "markdown",
   "id": "06a48ef1",
   "metadata": {},
   "source": [
    "## Try it yourself\n",
    "\n",
    "Navigate to the [UNR MAGNET website](http://geodesy.unr.edu/NGLStationPages/gpsnetmap/GPSNetMap.html), find station [GUAT located in Guatemala City](http://geodesy.unr.edu/NGLStationPages/stations/GUAT.sta), click on that station and look at the data. \n",
    "\n",
    "It is important to select the appropriate reference frame when looking at GNSS velocities. \n",
    "A station in a North-America reference frame will have a different velocity compared to the same station in a Caribbean reference frame, for example. Try looking at the time-series for GUAT in several different reference frames on the UNR MAGNET website. "
   ]
  },
  {
   "cell_type": "markdown",
   "id": "bed75f97",
   "metadata": {},
   "source": [
    "## Accessing GNSS time-series data from continuous and semi-continuous stations\n",
    "We will access publicly-available data that has already been processed up to the time-series level. This time-series data contains one position point in three dimensions for a given station on a daily frequency. The data is available from several different sources, including the __[University of Nevada at Reno](http://geodesy.unr.edu/NGLStationPages/gpsnetmap/GPSNetMap_MAG.html)__ and __[UNAVCO](https://www.unavco.org/data/gps-gnss/data-access-methods/data-access-methods.html)__; the latter has data from several different sources. Using data already pre-processed will save a lot of time for this lab, but be aware that each processing agency has its own set of stations and quirks that must be investigated for real research-level work."
   ]
  },
  {
   "cell_type": "code",
   "execution_count": 3,
   "id": "666e80fa",
   "metadata": {},
   "outputs": [],
   "source": [
    "# First import the libraries and set up some helpful functions\n",
    "import pandas as pd\n",
    "import matplotlib.pyplot as plt\n",
    "import numpy as np\n",
    "\n",
    "# some helpful functions\n",
    "def cosd(angle_in_degrees):\n",
    "    return np.cos(np.radians(angle_in_degrees))\n",
    "def sind(angle_in_degrees):\n",
    "    return np.sin(np.radians(angle_in_degrees))"
   ]
  },
  {
   "cell_type": "code",
   "execution_count": 4,
   "id": "808ffb7a",
   "metadata": {},
   "outputs": [],
   "source": [
    "# We will need these libraries to run this notebook\n",
    "#!pip install pyproj #<-- Uncomment and run this once at the beginning of running this section of the notebook"
   ]
  },
  {
   "cell_type": "code",
   "execution_count": null,
   "id": "a39d2b60",
   "metadata": {},
   "outputs": [],
   "source": [
    "# Load the GUAT GNSS time-series\n",
    "URL = 'https://raw.githubusercontent.com/jlmaurer/GE6146/master/data/GNSS_Vels.csv'\n",
    "gnss_ts = pd.read_csv(URL, delim_whitespace=True).set_index('SITE_NAME')\n",
    "gnss_ts['Lon'] = gnss_vels_Parkfield['Lon'] - 360  # convert to degrees west"
   ]
  }
 ],
 "metadata": {
  "kernelspec": {
   "display_name": "Python 3 (ipykernel)",
   "language": "python",
   "name": "python3"
  },
  "language_info": {
   "codemirror_mode": {
    "name": "ipython",
    "version": 3
   },
   "file_extension": ".py",
   "mimetype": "text/x-python",
   "name": "python",
   "nbconvert_exporter": "python",
   "pygments_lexer": "ipython3",
   "version": "3.11.3"
  }
 },
 "nbformat": 4,
 "nbformat_minor": 5
}
