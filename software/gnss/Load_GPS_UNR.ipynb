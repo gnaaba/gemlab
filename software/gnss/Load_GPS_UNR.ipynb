{
 "cells": [
  {
   "cell_type": "markdown",
   "metadata": {},
   "source": [
    "# GNSS Line-of-Sight Velocities\n",
    "\n",
    "In this notebook we will pull GNSS velocities from the University of Nevada-Reno's Nevada Geodetic Laboratory website. \n",
    "These data will be filtered to remove noisy stations and converted to line-of-sight velocities to compare to InSAR velocites. "
   ]
  },
  {
   "cell_type": "code",
   "execution_count": 18,
   "metadata": {
    "id": "qidVspXpFrww"
   },
   "outputs": [],
   "source": [
    "import h5py\n",
    "import os\n",
    "import rasterio\n",
    "\n",
    "import pandas as pd\n",
    "import numpy as np\n",
    "import matplotlib.pyplot as plt\n",
    "\n",
    "from pyproj import CRS, Transformer\n",
    "from scipy.interpolate import RegularGridInterpolator"
   ]
  },
  {
   "cell_type": "markdown",
   "metadata": {},
   "source": [
    "#### Files needed\n",
    "\n",
    "In order to get line-of-sight velocities, we need geometry information for the station locations. \n",
    "For products processed using ASF's on-demand InSAR processing service, we will use the `*_lv_theta.tif` file to get the heading data for the sensor and the `geometryGeo.h5` file obtained from Mintpy after running the `smallbaselineApp.py` software to produce time-series from the ASF products. "
   ]
  },
  {
   "cell_type": "code",
   "execution_count": 75,
   "metadata": {},
   "outputs": [],
   "source": [
    "# define file names\n",
    "working_directory = '.'  # put working directory here and make sure the files below are in it\n",
    "\n",
    "lv_theta_file = working_directory + 'S1AA_20180110T001141_20180122T001141_VVP012_INT80_G_weF_204C_lv_theta.tif'\n",
    "geometry_file = working_directory + 'geometryGeo.h5'"
   ]
  },
  {
   "cell_type": "code",
   "execution_count": 76,
   "metadata": {
    "id": "f4fOS3SH_guQ"
   },
   "outputs": [],
   "source": [
    "# Functions that we'll need\n",
    "\n",
    "def mad(inp):\n",
    "  return np.median(np.abs(inp - np.median(inp)))\n",
    "\n",
    "def inc_hd_to_enu(incidence, heading):\n",
    "    '''\n",
    "    Convert incidence and heading to line-of-sight vectors from the ground to the top of\n",
    "    the troposphere.\n",
    "\n",
    "    Args:\n",
    "        incidence: ndarray\t       - incidence angle in deg from vertical\n",
    "        heading: ndarray \t       - heading angle in deg clockwise from north\n",
    "        lats/lons/heights: ndarray - WGS84 ellipsoidal target (ground pixel) locations\n",
    "\n",
    "    Returns:\n",
    "        LOS: ndarray  - (input_shape) x 3 array of unit look vectors in local ENU\n",
    "\n",
    "    Algorithm referenced from http://earthdef.caltech.edu/boards/4/topics/327\n",
    "    '''\n",
    "    if np.any(incidence < 0):\n",
    "        raise ValueError('inc_hd_to_enu: Incidence angle cannot be less than 0')\n",
    "\n",
    "    east = sind(incidence) * cosd(heading + 90)\n",
    "    north = sind(incidence) * sind(heading + 90)\n",
    "    up = cosd(incidence)\n",
    "\n",
    "    return east, north, up\n",
    "\n",
    "def sind(x):\n",
    "    \"\"\"Return the sine of x when x is in degrees.\"\"\"\n",
    "    return np.sin(np.radians(x))\n",
    "def cosd(x):\n",
    "    \"\"\"Return the cosine of x when x is in degrees.\"\"\"\n",
    "    return np.cos(np.radians(x))"
   ]
  },
  {
   "cell_type": "markdown",
   "metadata": {
    "id": "OtXoP53O4yCc"
   },
   "source": [
    "To obtain GNSS velocities, we'll access a data URL from the Nevada Geodetic Laboratory"
   ]
  },
  {
   "cell_type": "code",
   "execution_count": 77,
   "metadata": {
    "id": "o6GHLJa_Vvaq"
   },
   "outputs": [],
   "source": [
    "# Load GNSS data from UNR.\n",
    "# Use GNSS data in North America reference frame\n",
    "data_file = 'http://geodesy.unr.edu/velocities/midas.NA.txt'"
   ]
  },
  {
   "cell_type": "code",
   "execution_count": 78,
   "metadata": {
    "id": "qw5XnTxTzdju"
   },
   "outputs": [],
   "source": [
    "# MIDAS velocity file format\n",
    "column_names = [\n",
    "    'ID',\n",
    "    'MIDASversion',\n",
    "    'first_epoch',\n",
    "    'last_epoch',\n",
    "    'duration_yrs',\n",
    "    'N_epochs',\n",
    "    'N_epochs_good',\n",
    "    'N_vel_pairs',\n",
    "    'Ve',\n",
    "    'Vn',\n",
    "    'Vu',\n",
    "    'Se',\n",
    "    'Sn',\n",
    "    'Su',\n",
    "    'E_initial_offset',\n",
    "    'N_initial_offset',\n",
    "    'U_initial_offset',\n",
    "    'E_frac_outliers',\n",
    "    'N_frac_outliers',\n",
    "    'U_frac_outliers',\n",
    "    'E_std_vel_pairs',\n",
    "    'N_std_vel_pairs',\n",
    "    'U_std_vel_pairs',\n",
    "    'Nsteps',\n",
    "    'lat',\n",
    "    'lon',\n",
    "    'hgt_m',\n",
    "  ]"
   ]
  },
  {
   "cell_type": "code",
   "execution_count": 79,
   "metadata": {
    "id": "z-u4rX8YV1VF"
   },
   "outputs": [
    {
     "name": "stderr",
     "output_type": "stream",
     "text": [
      "<>:1: SyntaxWarning: invalid escape sequence '\\s'\n",
      "<>:1: SyntaxWarning: invalid escape sequence '\\s'\n",
      "/var/folders/97/ptdvc_cd42985hl35hz5yztr0000gp/T/ipykernel_38268/410591845.py:1: SyntaxWarning: invalid escape sequence '\\s'\n",
      "  df = pd.read_csv(data_file, names=column_names, sep='\\s+')\n"
     ]
    }
   ],
   "source": [
    "df = pd.read_csv(data_file, names=column_names, sep='\\s+')"
   ]
  },
  {
   "cell_type": "code",
   "execution_count": 80,
   "metadata": {
    "colab": {
     "base_uri": "https://localhost:8080/",
     "height": 256
    },
    "id": "Er7a9jb1yW0O",
    "outputId": "1c0f4df4-68c6-4cd3-eded-b061faebf7b3"
   },
   "outputs": [
    {
     "data": {
      "text/html": [
       "<div>\n",
       "<style scoped>\n",
       "    .dataframe tbody tr th:only-of-type {\n",
       "        vertical-align: middle;\n",
       "    }\n",
       "\n",
       "    .dataframe tbody tr th {\n",
       "        vertical-align: top;\n",
       "    }\n",
       "\n",
       "    .dataframe thead th {\n",
       "        text-align: right;\n",
       "    }\n",
       "</style>\n",
       "<table border=\"1\" class=\"dataframe\">\n",
       "  <thead>\n",
       "    <tr style=\"text-align: right;\">\n",
       "      <th></th>\n",
       "      <th>ID</th>\n",
       "      <th>MIDASversion</th>\n",
       "      <th>first_epoch</th>\n",
       "      <th>last_epoch</th>\n",
       "      <th>duration_yrs</th>\n",
       "      <th>N_epochs</th>\n",
       "      <th>N_epochs_good</th>\n",
       "      <th>N_vel_pairs</th>\n",
       "      <th>Ve</th>\n",
       "      <th>Vn</th>\n",
       "      <th>...</th>\n",
       "      <th>E_frac_outliers</th>\n",
       "      <th>N_frac_outliers</th>\n",
       "      <th>U_frac_outliers</th>\n",
       "      <th>E_std_vel_pairs</th>\n",
       "      <th>N_std_vel_pairs</th>\n",
       "      <th>U_std_vel_pairs</th>\n",
       "      <th>Nsteps</th>\n",
       "      <th>lat</th>\n",
       "      <th>lon</th>\n",
       "      <th>hgt_m</th>\n",
       "    </tr>\n",
       "  </thead>\n",
       "  <tbody>\n",
       "    <tr>\n",
       "      <th>0</th>\n",
       "      <td>1LSU</td>\n",
       "      <td>MIDAS5</td>\n",
       "      <td>2003.3073</td>\n",
       "      <td>2024.2902</td>\n",
       "      <td>20.9829</td>\n",
       "      <td>7199</td>\n",
       "      <td>6228</td>\n",
       "      <td>8623</td>\n",
       "      <td>-0.000805</td>\n",
       "      <td>0.001503</td>\n",
       "      <td>...</td>\n",
       "      <td>0.042</td>\n",
       "      <td>0.044</td>\n",
       "      <td>0.057</td>\n",
       "      <td>0.003930</td>\n",
       "      <td>0.003065</td>\n",
       "      <td>0.008758</td>\n",
       "      <td>10</td>\n",
       "      <td>30.407425</td>\n",
       "      <td>-91.180262</td>\n",
       "      <td>-6.56646</td>\n",
       "    </tr>\n",
       "    <tr>\n",
       "      <th>1</th>\n",
       "      <td>1NSU</td>\n",
       "      <td>MIDAS5</td>\n",
       "      <td>2004.0411</td>\n",
       "      <td>2024.2902</td>\n",
       "      <td>20.2491</td>\n",
       "      <td>7274</td>\n",
       "      <td>7213</td>\n",
       "      <td>10928</td>\n",
       "      <td>-0.000807</td>\n",
       "      <td>0.002402</td>\n",
       "      <td>...</td>\n",
       "      <td>0.048</td>\n",
       "      <td>0.044</td>\n",
       "      <td>0.046</td>\n",
       "      <td>0.002117</td>\n",
       "      <td>0.002022</td>\n",
       "      <td>0.007338</td>\n",
       "      <td>4</td>\n",
       "      <td>31.750801</td>\n",
       "      <td>-93.097604</td>\n",
       "      <td>28.04620</td>\n",
       "    </tr>\n",
       "    <tr>\n",
       "      <th>2</th>\n",
       "      <td>1ULM</td>\n",
       "      <td>MIDAS5</td>\n",
       "      <td>2003.4497</td>\n",
       "      <td>2024.2902</td>\n",
       "      <td>20.8405</td>\n",
       "      <td>7375</td>\n",
       "      <td>7372</td>\n",
       "      <td>11250</td>\n",
       "      <td>-0.000549</td>\n",
       "      <td>0.001587</td>\n",
       "      <td>...</td>\n",
       "      <td>0.048</td>\n",
       "      <td>0.054</td>\n",
       "      <td>0.045</td>\n",
       "      <td>0.002181</td>\n",
       "      <td>0.001886</td>\n",
       "      <td>0.007473</td>\n",
       "      <td>4</td>\n",
       "      <td>32.529034</td>\n",
       "      <td>-92.075907</td>\n",
       "      <td>15.97255</td>\n",
       "    </tr>\n",
       "    <tr>\n",
       "      <th>3</th>\n",
       "      <td>299C</td>\n",
       "      <td>MIDAS5</td>\n",
       "      <td>2003.0308</td>\n",
       "      <td>2007.0856</td>\n",
       "      <td>4.0548</td>\n",
       "      <td>1408</td>\n",
       "      <td>1408</td>\n",
       "      <td>2159</td>\n",
       "      <td>0.006539</td>\n",
       "      <td>-0.001731</td>\n",
       "      <td>...</td>\n",
       "      <td>0.127</td>\n",
       "      <td>0.066</td>\n",
       "      <td>0.095</td>\n",
       "      <td>0.002195</td>\n",
       "      <td>0.001951</td>\n",
       "      <td>0.008442</td>\n",
       "      <td>0</td>\n",
       "      <td>64.028926</td>\n",
       "      <td>-142.075778</td>\n",
       "      <td>748.13639</td>\n",
       "    </tr>\n",
       "    <tr>\n",
       "      <th>4</th>\n",
       "      <td>3RIV</td>\n",
       "      <td>MIDAS5</td>\n",
       "      <td>1994.8172</td>\n",
       "      <td>2015.6715</td>\n",
       "      <td>20.8543</td>\n",
       "      <td>30</td>\n",
       "      <td>30</td>\n",
       "      <td>56</td>\n",
       "      <td>0.000401</td>\n",
       "      <td>-0.000723</td>\n",
       "      <td>...</td>\n",
       "      <td>0.000</td>\n",
       "      <td>0.143</td>\n",
       "      <td>0.125</td>\n",
       "      <td>0.000637</td>\n",
       "      <td>0.000428</td>\n",
       "      <td>0.001442</td>\n",
       "      <td>0</td>\n",
       "      <td>46.314763</td>\n",
       "      <td>-72.576085</td>\n",
       "      <td>-21.73074</td>\n",
       "    </tr>\n",
       "  </tbody>\n",
       "</table>\n",
       "<p>5 rows × 27 columns</p>\n",
       "</div>"
      ],
      "text/plain": [
       "     ID MIDASversion  first_epoch  last_epoch  duration_yrs  N_epochs  \\\n",
       "0  1LSU       MIDAS5    2003.3073   2024.2902       20.9829      7199   \n",
       "1  1NSU       MIDAS5    2004.0411   2024.2902       20.2491      7274   \n",
       "2  1ULM       MIDAS5    2003.4497   2024.2902       20.8405      7375   \n",
       "3  299C       MIDAS5    2003.0308   2007.0856        4.0548      1408   \n",
       "4  3RIV       MIDAS5    1994.8172   2015.6715       20.8543        30   \n",
       "\n",
       "   N_epochs_good  N_vel_pairs        Ve        Vn  ...  E_frac_outliers  \\\n",
       "0           6228         8623 -0.000805  0.001503  ...            0.042   \n",
       "1           7213        10928 -0.000807  0.002402  ...            0.048   \n",
       "2           7372        11250 -0.000549  0.001587  ...            0.048   \n",
       "3           1408         2159  0.006539 -0.001731  ...            0.127   \n",
       "4             30           56  0.000401 -0.000723  ...            0.000   \n",
       "\n",
       "   N_frac_outliers  U_frac_outliers  E_std_vel_pairs  N_std_vel_pairs  \\\n",
       "0            0.044            0.057         0.003930         0.003065   \n",
       "1            0.044            0.046         0.002117         0.002022   \n",
       "2            0.054            0.045         0.002181         0.001886   \n",
       "3            0.066            0.095         0.002195         0.001951   \n",
       "4            0.143            0.125         0.000637         0.000428   \n",
       "\n",
       "   U_std_vel_pairs  Nsteps        lat         lon      hgt_m  \n",
       "0         0.008758      10  30.407425  -91.180262   -6.56646  \n",
       "1         0.007338       4  31.750801  -93.097604   28.04620  \n",
       "2         0.007473       4  32.529034  -92.075907   15.97255  \n",
       "3         0.008442       0  64.028926 -142.075778  748.13639  \n",
       "4         0.001442       0  46.314763  -72.576085  -21.73074  \n",
       "\n",
       "[5 rows x 27 columns]"
      ]
     },
     "execution_count": 80,
     "metadata": {},
     "output_type": "execute_result"
    }
   ],
   "source": [
    "df.head()"
   ]
  },
  {
   "cell_type": "code",
   "execution_count": 81,
   "metadata": {
    "id": "NMKncz9RWUIk"
   },
   "outputs": [],
   "source": [
    "# Define the region of interst (AOI)\n",
    "lat_north = 37\n",
    "lat_south = 34\n",
    "lon_west = -95\n",
    "lon_east = -91"
   ]
  },
  {
   "cell_type": "code",
   "execution_count": 82,
   "metadata": {
    "colab": {
     "base_uri": "https://localhost:8080/",
     "height": 273
    },
    "id": "ndqtgINLw8Qw",
    "outputId": "0a49293b-ecd8-43d3-9c90-2cee6fcf83a2"
   },
   "outputs": [
    {
     "name": "stdout",
     "output_type": "stream",
     "text": [
      "43\n"
     ]
    },
    {
     "data": {
      "text/html": [
       "<div>\n",
       "<style scoped>\n",
       "    .dataframe tbody tr th:only-of-type {\n",
       "        vertical-align: middle;\n",
       "    }\n",
       "\n",
       "    .dataframe tbody tr th {\n",
       "        vertical-align: top;\n",
       "    }\n",
       "\n",
       "    .dataframe thead th {\n",
       "        text-align: right;\n",
       "    }\n",
       "</style>\n",
       "<table border=\"1\" class=\"dataframe\">\n",
       "  <thead>\n",
       "    <tr style=\"text-align: right;\">\n",
       "      <th></th>\n",
       "      <th>ID</th>\n",
       "      <th>MIDASversion</th>\n",
       "      <th>first_epoch</th>\n",
       "      <th>last_epoch</th>\n",
       "      <th>duration_yrs</th>\n",
       "      <th>N_epochs</th>\n",
       "      <th>N_epochs_good</th>\n",
       "      <th>N_vel_pairs</th>\n",
       "      <th>Ve</th>\n",
       "      <th>Vn</th>\n",
       "      <th>...</th>\n",
       "      <th>E_frac_outliers</th>\n",
       "      <th>N_frac_outliers</th>\n",
       "      <th>U_frac_outliers</th>\n",
       "      <th>E_std_vel_pairs</th>\n",
       "      <th>N_std_vel_pairs</th>\n",
       "      <th>U_std_vel_pairs</th>\n",
       "      <th>Nsteps</th>\n",
       "      <th>lat</th>\n",
       "      <th>lon</th>\n",
       "      <th>hgt_m</th>\n",
       "    </tr>\n",
       "  </thead>\n",
       "  <tbody>\n",
       "    <tr>\n",
       "      <th>346</th>\n",
       "      <td>ARAK</td>\n",
       "      <td>MIDAS5</td>\n",
       "      <td>2022.3381</td>\n",
       "      <td>2023.5455</td>\n",
       "      <td>1.2074</td>\n",
       "      <td>437</td>\n",
       "      <td>151</td>\n",
       "      <td>151</td>\n",
       "      <td>-0.001158</td>\n",
       "      <td>0.000147</td>\n",
       "      <td>...</td>\n",
       "      <td>0.026</td>\n",
       "      <td>0.073</td>\n",
       "      <td>0.053</td>\n",
       "      <td>0.002622</td>\n",
       "      <td>0.002020</td>\n",
       "      <td>0.006731</td>\n",
       "      <td>0</td>\n",
       "      <td>34.113421</td>\n",
       "      <td>-93.054561</td>\n",
       "      <td>37.17466</td>\n",
       "    </tr>\n",
       "    <tr>\n",
       "      <th>349</th>\n",
       "      <td>ARBA</td>\n",
       "      <td>MIDAS5</td>\n",
       "      <td>2021.2266</td>\n",
       "      <td>2023.5455</td>\n",
       "      <td>2.3189</td>\n",
       "      <td>844</td>\n",
       "      <td>844</td>\n",
       "      <td>961</td>\n",
       "      <td>-0.000166</td>\n",
       "      <td>0.001350</td>\n",
       "      <td>...</td>\n",
       "      <td>0.054</td>\n",
       "      <td>0.054</td>\n",
       "      <td>0.056</td>\n",
       "      <td>0.002064</td>\n",
       "      <td>0.002089</td>\n",
       "      <td>0.007764</td>\n",
       "      <td>0</td>\n",
       "      <td>35.771980</td>\n",
       "      <td>-91.649675</td>\n",
       "      <td>88.81093</td>\n",
       "    </tr>\n",
       "    <tr>\n",
       "      <th>350</th>\n",
       "      <td>ARBK</td>\n",
       "      <td>MIDAS5</td>\n",
       "      <td>2019.2279</td>\n",
       "      <td>2023.5455</td>\n",
       "      <td>4.3176</td>\n",
       "      <td>1577</td>\n",
       "      <td>1577</td>\n",
       "      <td>2425</td>\n",
       "      <td>-0.000620</td>\n",
       "      <td>0.001226</td>\n",
       "      <td>...</td>\n",
       "      <td>0.053</td>\n",
       "      <td>0.056</td>\n",
       "      <td>0.053</td>\n",
       "      <td>0.002120</td>\n",
       "      <td>0.001890</td>\n",
       "      <td>0.006955</td>\n",
       "      <td>0</td>\n",
       "      <td>34.886942</td>\n",
       "      <td>-91.196183</td>\n",
       "      <td>40.05931</td>\n",
       "    </tr>\n",
       "    <tr>\n",
       "      <th>352</th>\n",
       "      <td>ARBT</td>\n",
       "      <td>MIDAS5</td>\n",
       "      <td>2005.6044</td>\n",
       "      <td>2024.2902</td>\n",
       "      <td>18.6858</td>\n",
       "      <td>6450</td>\n",
       "      <td>6449</td>\n",
       "      <td>11684</td>\n",
       "      <td>-0.000353</td>\n",
       "      <td>0.001435</td>\n",
       "      <td>...</td>\n",
       "      <td>0.050</td>\n",
       "      <td>0.067</td>\n",
       "      <td>0.061</td>\n",
       "      <td>0.002074</td>\n",
       "      <td>0.002111</td>\n",
       "      <td>0.008537</td>\n",
       "      <td>1</td>\n",
       "      <td>35.709876</td>\n",
       "      <td>-91.628548</td>\n",
       "      <td>91.94339</td>\n",
       "    </tr>\n",
       "    <tr>\n",
       "      <th>353</th>\n",
       "      <td>ARBY</td>\n",
       "      <td>MIDAS5</td>\n",
       "      <td>2019.1786</td>\n",
       "      <td>2023.5455</td>\n",
       "      <td>4.3669</td>\n",
       "      <td>1595</td>\n",
       "      <td>1595</td>\n",
       "      <td>2460</td>\n",
       "      <td>-0.000324</td>\n",
       "      <td>0.001310</td>\n",
       "      <td>...</td>\n",
       "      <td>0.039</td>\n",
       "      <td>0.063</td>\n",
       "      <td>0.044</td>\n",
       "      <td>0.002228</td>\n",
       "      <td>0.001814</td>\n",
       "      <td>0.007329</td>\n",
       "      <td>0</td>\n",
       "      <td>36.355988</td>\n",
       "      <td>-93.580371</td>\n",
       "      <td>322.20360</td>\n",
       "    </tr>\n",
       "  </tbody>\n",
       "</table>\n",
       "<p>5 rows × 27 columns</p>\n",
       "</div>"
      ],
      "text/plain": [
       "       ID MIDASversion  first_epoch  last_epoch  duration_yrs  N_epochs  \\\n",
       "346  ARAK       MIDAS5    2022.3381   2023.5455        1.2074       437   \n",
       "349  ARBA       MIDAS5    2021.2266   2023.5455        2.3189       844   \n",
       "350  ARBK       MIDAS5    2019.2279   2023.5455        4.3176      1577   \n",
       "352  ARBT       MIDAS5    2005.6044   2024.2902       18.6858      6450   \n",
       "353  ARBY       MIDAS5    2019.1786   2023.5455        4.3669      1595   \n",
       "\n",
       "     N_epochs_good  N_vel_pairs        Ve        Vn  ...  E_frac_outliers  \\\n",
       "346            151          151 -0.001158  0.000147  ...            0.026   \n",
       "349            844          961 -0.000166  0.001350  ...            0.054   \n",
       "350           1577         2425 -0.000620  0.001226  ...            0.053   \n",
       "352           6449        11684 -0.000353  0.001435  ...            0.050   \n",
       "353           1595         2460 -0.000324  0.001310  ...            0.039   \n",
       "\n",
       "     N_frac_outliers  U_frac_outliers  E_std_vel_pairs  N_std_vel_pairs  \\\n",
       "346            0.073            0.053         0.002622         0.002020   \n",
       "349            0.054            0.056         0.002064         0.002089   \n",
       "350            0.056            0.053         0.002120         0.001890   \n",
       "352            0.067            0.061         0.002074         0.002111   \n",
       "353            0.063            0.044         0.002228         0.001814   \n",
       "\n",
       "     U_std_vel_pairs  Nsteps        lat        lon      hgt_m  \n",
       "346         0.006731       0  34.113421 -93.054561   37.17466  \n",
       "349         0.007764       0  35.771980 -91.649675   88.81093  \n",
       "350         0.006955       0  34.886942 -91.196183   40.05931  \n",
       "352         0.008537       1  35.709876 -91.628548   91.94339  \n",
       "353         0.007329       0  36.355988 -93.580371  322.20360  \n",
       "\n",
       "[5 rows x 27 columns]"
      ]
     },
     "execution_count": 82,
     "metadata": {},
     "output_type": "execute_result"
    }
   ],
   "source": [
    "mask = (df['lat'] < lat_north) & (df['lat'] > lat_south) & (df['lon'] < lon_east) & (df['lon'] > lon_west)\n",
    "df_bbox = df[mask]\n",
    "print(len(df_bbox))\n",
    "df_bbox.head()"
   ]
  },
  {
   "cell_type": "code",
   "execution_count": 83,
   "metadata": {
    "colab": {
     "base_uri": "https://localhost:8080/",
     "height": 448
    },
    "id": "BkfSDyVNBM72",
    "outputId": "1c2b8807-427d-45ae-99c5-376a3a679f1e"
   },
   "outputs": [
    {
     "data": {
      "text/plain": [
       "<matplotlib.quiver.Quiver at 0x186abee70>"
      ]
     },
     "execution_count": 83,
     "metadata": {},
     "output_type": "execute_result"
    },
    {
     "data": {
      "image/png": "[encoded data removed]",
      "text/plain": [
       "<Figure size 640x480 with 1 Axes>"
      ]
     },
     "metadata": {},
     "output_type": "display_data"
    }
   ],
   "source": [
    "plt.quiver(df_bbox['lon'], df_bbox['lat'], df_bbox['Ve'], df_bbox['Vn'])"
   ]
  },
  {
   "cell_type": "markdown",
   "metadata": {
    "id": "QBuKeXikFOBf"
   },
   "source": [
    "Steps:\n",
    "1. Remove stations with errors OR with high uncertainty\n",
    "2. Project GNSS velocities into the line-of-sight of our insar velocities\n",
    "3. Put the Insar velocities into the GNSS frame of reference\n",
    "4. Solve for a plane parameter of the difference"
   ]
  },
  {
   "cell_type": "markdown",
   "metadata": {},
   "source": [
    "#### Remove stations with high errors"
   ]
  },
  {
   "cell_type": "code",
   "execution_count": 84,
   "metadata": {
    "colab": {
     "base_uri": "https://localhost:8080/"
    },
    "id": "0PEaVKCIB0VJ",
    "outputId": "8a402a2d-e416-4c48-9b04-1d073e038a75"
   },
   "outputs": [
    {
     "name": "stdout",
     "output_type": "stream",
     "text": [
      "Mean easting velocity: -0.36 mm/yr\n",
      "Mean northing velocity: 1.21 mm/yr\n",
      "Std easting velocity: 1.24 mm/yr\n",
      "Std northing velocity: 0.46 mm/yr\n"
     ]
    }
   ],
   "source": [
    "# Need to remove outlier velocities\n",
    "mean_ve = df_bbox['Ve'].mean()\n",
    "mean_vn = df_bbox['Vn'].mean()\n",
    "std_ve = df_bbox['Ve'].std()\n",
    "std_vn = df_bbox['Vn'].std()\n",
    "\n",
    "print('Mean easting velocity: {:.2f} mm/yr'.format(mean_ve*1000))\n",
    "print('Mean northing velocity: {:.2f} mm/yr'.format(mean_vn*1000))\n",
    "print('Std easting velocity: {:.2f} mm/yr'.format(std_ve*1000))\n",
    "print('Std northing velocity: {:.2f} mm/yr'.format(std_vn*1000))"
   ]
  },
  {
   "cell_type": "code",
   "execution_count": 85,
   "metadata": {
    "colab": {
     "base_uri": "https://localhost:8080/"
    },
    "id": "3vnmKJix0Z-k",
    "outputId": "dd70c0af-dfc1-414e-bbe7-fb78e68b182d"
   },
   "outputs": [
    {
     "name": "stdout",
     "output_type": "stream",
     "text": [
      "Mean sigma_east: 0.35 mm/yr\n",
      "Mean sigma_north: 0.36 mm/yr\n"
     ]
    }
   ],
   "source": [
    "print('Mean sigma_east: {:.2f} mm/yr'.format(df_bbox['Se'].mean()*1000))\n",
    "print('Mean sigma_north: {:.2f} mm/yr'.format(df_bbox['Sn'].mean()*1000))"
   ]
  },
  {
   "cell_type": "code",
   "execution_count": 86,
   "metadata": {
    "colab": {
     "base_uri": "https://localhost:8080/"
    },
    "id": "e6_Hxlv4x7j3",
    "outputId": "13cdbedb-def3-4cc8-ed25-70416b84db81"
   },
   "outputs": [
    {
     "name": "stdout",
     "output_type": "stream",
     "text": [
      "43\n",
      "4\n",
      "4\n",
      "16\n",
      "6\n",
      "0\n"
     ]
    }
   ],
   "source": [
    "outlier_mask_1 = (df_bbox['Ve'] > mean_ve + 2 * std_ve) | (df_bbox['Ve'] < mean_ve - 2 * std_ve) | (df_bbox['Vn'] > mean_vn + 2 * std_vn) | (df_bbox['Vn'] < mean_vn - 2 * std_vn)\n",
    "outlier_mask_2 = (df_bbox['Se']*1000 > 1) | (df_bbox['Sn']*1000 > 1)\n",
    "outlier_mask_3 = df_bbox['duration_yrs'] < 5\n",
    "outlier_mask_4 = df_bbox['N_epochs_good'] < 1000\n",
    "\n",
    "outlier_mask_5 = df_bbox['Vn'] < 0 # this will only work for NA-reference velocities in this area\n",
    "\n",
    "print(len(df_bbox))\n",
    "print(np.sum(outlier_mask_1))\n",
    "print(np.sum(outlier_mask_2))\n",
    "print(np.sum(outlier_mask_3))\n",
    "print(np.sum(outlier_mask_4))\n",
    "print(np.sum(outlier_mask_5))\n",
    "\n",
    "outlier_mask = outlier_mask_1 | outlier_mask_2 | outlier_mask_3 | outlier_mask_4 | outlier_mask_5"
   ]
  },
  {
   "cell_type": "code",
   "execution_count": 87,
   "metadata": {
    "id": "vUm7c7nrzF3m"
   },
   "outputs": [],
   "source": [
    "df_clean = df_bbox[~outlier_mask]"
   ]
  },
  {
   "cell_type": "code",
   "execution_count": 88,
   "metadata": {
    "colab": {
     "base_uri": "https://localhost:8080/",
     "height": 448
    },
    "id": "2SswccomC5fu",
    "outputId": "1b074293-4bae-4afc-df83-b39ad247c8f5"
   },
   "outputs": [
    {
     "data": {
      "text/plain": [
       "<matplotlib.quiver.Quiver at 0x185e4b020>"
      ]
     },
     "execution_count": 88,
     "metadata": {},
     "output_type": "execute_result"
    },
    {
     "data": {
      "image/png": "[encoded data removed]",
      "text/plain": [
       "<Figure size 640x480 with 1 Axes>"
      ]
     },
     "metadata": {},
     "output_type": "display_data"
    }
   ],
   "source": [
    "plt.quiver(df_clean['lon'], df_clean['lat'], df_clean['Ve'], df_clean['Vn'])"
   ]
  },
  {
   "cell_type": "code",
   "execution_count": 89,
   "metadata": {
    "colab": {
     "base_uri": "https://localhost:8080/"
    },
    "id": "QpmY2xNW_D3_",
    "outputId": "b5f71c64-1fe3-4805-dea3-eec19aea7260"
   },
   "outputs": [
    {
     "name": "stdout",
     "output_type": "stream",
     "text": [
      "Mean easting velocity is -0.09 mm/yr\n",
      "Mean northing velocity is 1.36 mm/yr\n",
      "Mean sigma_east is 0.19 mm/yr\n",
      "Mean sigma_north is 0.18 mm/yr\n",
      "Variablity in Veast is 0.25 mm/yr\n",
      "Variablity in Vnorth is 0.14 mm/yr\n",
      "Std of Veast is 0.37 mm/yr\n",
      "Std of Veast is 0.35 mm/yr\n"
     ]
    }
   ],
   "source": [
    "print('Mean easting velocity is {:.2f} mm/yr'.format(np.median(df_clean['Ve'] * 1000)))\n",
    "print('Mean northing velocity is {:.2f} mm/yr'.format(np.median(df_clean['Vn'] * 1000)))\n",
    "\n",
    "print('Mean sigma_east is {:.2f} mm/yr'.format(np.median(df_clean['Se'] * 1000)))\n",
    "print('Mean sigma_north is {:.2f} mm/yr'.format(np.median(df_clean['Sn'] * 1000)))\n",
    "\n",
    "print('Variablity in Veast is {:.2f} mm/yr'.format(mad(df_clean['Ve'] * 1000)))\n",
    "print('Variablity in Vnorth is {:.2f} mm/yr'.format(mad(df_clean['Vn'] * 1000)))\n",
    "\n",
    "print('Std of Veast is {:.2f} mm/yr'.format(df_clean['Ve'].std() * 1000))\n",
    "print('Std of Veast is {:.2f} mm/yr'.format(df_clean['Vn'].std() * 1000))"
   ]
  },
  {
   "cell_type": "code",
   "execution_count": 90,
   "metadata": {},
   "outputs": [
    {
     "data": {
      "text/html": [
       "<div>\n",
       "<style scoped>\n",
       "    .dataframe tbody tr th:only-of-type {\n",
       "        vertical-align: middle;\n",
       "    }\n",
       "\n",
       "    .dataframe tbody tr th {\n",
       "        vertical-align: top;\n",
       "    }\n",
       "\n",
       "    .dataframe thead th {\n",
       "        text-align: right;\n",
       "    }\n",
       "</style>\n",
       "<table border=\"1\" class=\"dataframe\">\n",
       "  <thead>\n",
       "    <tr style=\"text-align: right;\">\n",
       "      <th></th>\n",
       "      <th>ID</th>\n",
       "      <th>MIDASversion</th>\n",
       "      <th>first_epoch</th>\n",
       "      <th>last_epoch</th>\n",
       "      <th>duration_yrs</th>\n",
       "      <th>N_epochs</th>\n",
       "      <th>N_epochs_good</th>\n",
       "      <th>N_vel_pairs</th>\n",
       "      <th>Ve</th>\n",
       "      <th>Vn</th>\n",
       "      <th>...</th>\n",
       "      <th>E_frac_outliers</th>\n",
       "      <th>N_frac_outliers</th>\n",
       "      <th>U_frac_outliers</th>\n",
       "      <th>E_std_vel_pairs</th>\n",
       "      <th>N_std_vel_pairs</th>\n",
       "      <th>U_std_vel_pairs</th>\n",
       "      <th>Nsteps</th>\n",
       "      <th>lat</th>\n",
       "      <th>lon</th>\n",
       "      <th>hgt_m</th>\n",
       "    </tr>\n",
       "  </thead>\n",
       "  <tbody>\n",
       "    <tr>\n",
       "      <th>352</th>\n",
       "      <td>ARBT</td>\n",
       "      <td>MIDAS5</td>\n",
       "      <td>2005.6044</td>\n",
       "      <td>2024.2902</td>\n",
       "      <td>18.6858</td>\n",
       "      <td>6450</td>\n",
       "      <td>6449</td>\n",
       "      <td>11684</td>\n",
       "      <td>-0.000353</td>\n",
       "      <td>0.001435</td>\n",
       "      <td>...</td>\n",
       "      <td>0.050</td>\n",
       "      <td>0.067</td>\n",
       "      <td>0.061</td>\n",
       "      <td>0.002074</td>\n",
       "      <td>0.002111</td>\n",
       "      <td>0.008537</td>\n",
       "      <td>1</td>\n",
       "      <td>35.709876</td>\n",
       "      <td>-91.628548</td>\n",
       "      <td>91.94339</td>\n",
       "    </tr>\n",
       "    <tr>\n",
       "      <th>358</th>\n",
       "      <td>ARCT</td>\n",
       "      <td>MIDAS5</td>\n",
       "      <td>2016.7447</td>\n",
       "      <td>2023.5455</td>\n",
       "      <td>6.8008</td>\n",
       "      <td>2359</td>\n",
       "      <td>2359</td>\n",
       "      <td>4019</td>\n",
       "      <td>-0.000027</td>\n",
       "      <td>0.000891</td>\n",
       "      <td>...</td>\n",
       "      <td>0.129</td>\n",
       "      <td>0.052</td>\n",
       "      <td>0.150</td>\n",
       "      <td>0.002313</td>\n",
       "      <td>0.002442</td>\n",
       "      <td>0.008242</td>\n",
       "      <td>0</td>\n",
       "      <td>36.363941</td>\n",
       "      <td>-94.311402</td>\n",
       "      <td>391.90084</td>\n",
       "    </tr>\n",
       "    <tr>\n",
       "      <th>362</th>\n",
       "      <td>ARDQ</td>\n",
       "      <td>MIDAS5</td>\n",
       "      <td>2019.1841</td>\n",
       "      <td>2024.2902</td>\n",
       "      <td>5.1061</td>\n",
       "      <td>1846</td>\n",
       "      <td>1846</td>\n",
       "      <td>2978</td>\n",
       "      <td>-0.000496</td>\n",
       "      <td>0.001099</td>\n",
       "      <td>...</td>\n",
       "      <td>0.040</td>\n",
       "      <td>0.036</td>\n",
       "      <td>0.036</td>\n",
       "      <td>0.002170</td>\n",
       "      <td>0.001950</td>\n",
       "      <td>0.007363</td>\n",
       "      <td>0</td>\n",
       "      <td>34.080088</td>\n",
       "      <td>-94.323693</td>\n",
       "      <td>147.62246</td>\n",
       "    </tr>\n",
       "    <tr>\n",
       "      <th>365</th>\n",
       "      <td>ARFY</td>\n",
       "      <td>MIDAS5</td>\n",
       "      <td>2005.6044</td>\n",
       "      <td>2024.2902</td>\n",
       "      <td>18.6858</td>\n",
       "      <td>6583</td>\n",
       "      <td>6582</td>\n",
       "      <td>11745</td>\n",
       "      <td>-0.000143</td>\n",
       "      <td>0.001221</td>\n",
       "      <td>...</td>\n",
       "      <td>0.048</td>\n",
       "      <td>0.045</td>\n",
       "      <td>0.045</td>\n",
       "      <td>0.001938</td>\n",
       "      <td>0.001978</td>\n",
       "      <td>0.007538</td>\n",
       "      <td>1</td>\n",
       "      <td>36.115798</td>\n",
       "      <td>-94.180048</td>\n",
       "      <td>349.52929</td>\n",
       "    </tr>\n",
       "    <tr>\n",
       "      <th>366</th>\n",
       "      <td>ARGS</td>\n",
       "      <td>MIDAS5</td>\n",
       "      <td>2018.4723</td>\n",
       "      <td>2024.2902</td>\n",
       "      <td>5.8179</td>\n",
       "      <td>2115</td>\n",
       "      <td>2115</td>\n",
       "      <td>3508</td>\n",
       "      <td>-0.001093</td>\n",
       "      <td>0.001444</td>\n",
       "      <td>...</td>\n",
       "      <td>0.051</td>\n",
       "      <td>0.040</td>\n",
       "      <td>0.048</td>\n",
       "      <td>0.002160</td>\n",
       "      <td>0.002156</td>\n",
       "      <td>0.007528</td>\n",
       "      <td>0</td>\n",
       "      <td>34.068199</td>\n",
       "      <td>-93.116178</td>\n",
       "      <td>69.32106</td>\n",
       "    </tr>\n",
       "  </tbody>\n",
       "</table>\n",
       "<p>5 rows × 27 columns</p>\n",
       "</div>"
      ],
      "text/plain": [
       "       ID MIDASversion  first_epoch  last_epoch  duration_yrs  N_epochs  \\\n",
       "352  ARBT       MIDAS5    2005.6044   2024.2902       18.6858      6450   \n",
       "358  ARCT       MIDAS5    2016.7447   2023.5455        6.8008      2359   \n",
       "362  ARDQ       MIDAS5    2019.1841   2024.2902        5.1061      1846   \n",
       "365  ARFY       MIDAS5    2005.6044   2024.2902       18.6858      6583   \n",
       "366  ARGS       MIDAS5    2018.4723   2024.2902        5.8179      2115   \n",
       "\n",
       "     N_epochs_good  N_vel_pairs        Ve        Vn  ...  E_frac_outliers  \\\n",
       "352           6449        11684 -0.000353  0.001435  ...            0.050   \n",
       "358           2359         4019 -0.000027  0.000891  ...            0.129   \n",
       "362           1846         2978 -0.000496  0.001099  ...            0.040   \n",
       "365           6582        11745 -0.000143  0.001221  ...            0.048   \n",
       "366           2115         3508 -0.001093  0.001444  ...            0.051   \n",
       "\n",
       "     N_frac_outliers  U_frac_outliers  E_std_vel_pairs  N_std_vel_pairs  \\\n",
       "352            0.067            0.061         0.002074         0.002111   \n",
       "358            0.052            0.150         0.002313         0.002442   \n",
       "362            0.036            0.036         0.002170         0.001950   \n",
       "365            0.045            0.045         0.001938         0.001978   \n",
       "366            0.040            0.048         0.002160         0.002156   \n",
       "\n",
       "     U_std_vel_pairs  Nsteps        lat        lon      hgt_m  \n",
       "352         0.008537       1  35.709876 -91.628548   91.94339  \n",
       "358         0.008242       0  36.363941 -94.311402  391.90084  \n",
       "362         0.007363       0  34.080088 -94.323693  147.62246  \n",
       "365         0.007538       1  36.115798 -94.180048  349.52929  \n",
       "366         0.007528       0  34.068199 -93.116178   69.32106  \n",
       "\n",
       "[5 rows x 27 columns]"
      ]
     },
     "execution_count": 90,
     "metadata": {},
     "output_type": "execute_result"
    }
   ],
   "source": [
    "df_clean.head()"
   ]
  },
  {
   "cell_type": "markdown",
   "metadata": {},
   "source": [
    "#### Convert GNSS velocities to LOS"
   ]
  },
  {
   "cell_type": "code",
   "execution_count": 91,
   "metadata": {},
   "outputs": [],
   "source": [
    "# read in geometry information\n",
    "with rasterio.open(lv_theta_file, 'r') as f:\n",
    "    hd_info = f.read(1)\n",
    "\n",
    "with h5py.File(geometry_file, 'r') as f:\n",
    "    inc = f['incidenceAngle'][()]"
   ]
  },
  {
   "cell_type": "code",
   "execution_count": 92,
   "metadata": {},
   "outputs": [
    {
     "name": "stdout",
     "output_type": "stream",
     "text": [
      "(2915, 3603)\n",
      "(2915, 3603)\n"
     ]
    }
   ],
   "source": [
    "print(hd_info.shape)\n",
    "print(inc.shape)"
   ]
  },
  {
   "cell_type": "markdown",
   "metadata": {},
   "source": [
    "#### Interpolate GNSS points\n",
    "The GNSS station locations are given in lat/lon but the InSAR may be in a UTM zone (default for ASF on-demand processing). We'll use the geocoded file containing look vector information to pull the CRS information and convert the GNSS lat/lon values to the InSAR locations."
   ]
  },
  {
   "cell_type": "code",
   "execution_count": 93,
   "metadata": {},
   "outputs": [],
   "source": [
    "with rasterio.open('/Users/jlmd9g/Downloads/S1AA_20180110T001141_20180122T001141_VVP012_INT80_G_weF_204C_lv_theta.tif', 'r') as f:\n",
    "    xy = f.xy\n",
    "    trans = f.transform\n",
    "    crs = f.crs\n",
    "    bounds = f.bounds\n",
    "\n",
    "crs_in = CRS.from_epsg(4326)\n",
    "x = [trans[2] + trans[0]*k for k in range(hd_info.shape[1])]\n",
    "y = [trans[5] + trans[4]*k for k in range(hd_info.shape[0])]"
   ]
  },
  {
   "cell_type": "code",
   "execution_count": 94,
   "metadata": {},
   "outputs": [
    {
     "data": {
      "text/plain": [
       "(334990.5721346386, 672667.2308931611, 3769723.856883381, 4092207.3544532363)"
      ]
     },
     "execution_count": 94,
     "metadata": {},
     "output_type": "execute_result"
    }
   ],
   "source": [
    "transformer = Transformer.from_crs(crs_in, crs, always_xy=True)\n",
    "gnss_x, gnss_y = transformer.transform(df_clean['lon'], df_clean['lat'])\n",
    "gnss_x.min(), gnss_x.max(), gnss_y.min(), gnss_y.max()"
   ]
  },
  {
   "cell_type": "code",
   "execution_count": 95,
   "metadata": {},
   "outputs": [
    {
     "data": {
      "text/plain": [
       "Text(0, 0.5, 'Y')"
      ]
     },
     "execution_count": 95,
     "metadata": {},
     "output_type": "execute_result"
    },
    {
     "data": {
      "image/png": "[encoded data removed]",
      "text/plain": [
       "<Figure size 640x480 with 1 Axes>"
      ]
     },
     "metadata": {},
     "output_type": "display_data"
    }
   ],
   "source": [
    "# make a plot of the extent of the InSAR and GNSS locations\n",
    "plt.scatter(gnss_x, gnss_y, marker='v', label='GNSS')\n",
    "plt.plot([bounds.left, bounds.left, bounds.right, bounds.right, bounds.left], [bounds.bottom, bounds.top, bounds.top, bounds.bottom, bounds.bottom], marker='o', c='k', label='InSAR')\n",
    "plt.scatter(x[:len(y)],y,marker='.',c='g')\n",
    "plt.legend()\n",
    "plt.xlabel('X')\n",
    "plt.ylabel('Y')"
   ]
  },
  {
   "cell_type": "code",
   "execution_count": 96,
   "metadata": {
    "id": "0YBEdF3H3zil"
   },
   "outputs": [],
   "source": [
    "# Need to calculate the LOS vectors from incidence and heading rasters\n",
    "inc_raster = inc\n",
    "az_raster = hd_info\n",
    "\n",
    "LOSx, LOSy, LOSz = inc_hd_to_enu(inc_raster, az_raster)"
   ]
  },
  {
   "cell_type": "code",
   "execution_count": 97,
   "metadata": {},
   "outputs": [],
   "source": [
    "# Interpolate to get LOS vectors for the GNSS stations\n",
    "Fx = RegularGridInterpolator((y,x), LOSx, bounds_error=False)\n",
    "Fy = RegularGridInterpolator((y,x), LOSy, bounds_error=False)\n",
    "Fz = RegularGridInterpolator((y,x), LOSz, bounds_error=False)\n",
    "\n",
    "LOSx_g = Fx((gnss_y, gnss_x))\n",
    "LOSy_g = Fy((gnss_y, gnss_x))\n",
    "LOSz_g = Fz((gnss_y, gnss_x))"
   ]
  },
  {
   "cell_type": "markdown",
   "metadata": {},
   "source": [
    "LOS velocity is what you need to compare GNSS velocities with InSAR velocities and put the InSAR velocities into an absolute reference frame (i.e. not relative to the reference pixel anymore). "
   ]
  },
  {
   "cell_type": "code",
   "execution_count": 98,
   "metadata": {
    "id": "iyFC3_6E4ND2"
   },
   "outputs": [],
   "source": [
    "los_vel = df_clean['Ve'] * LOSx_g + df_clean['Vn'] * LOSy_g + df_clean['Vu'] * LOSz_g"
   ]
  },
  {
   "cell_type": "code",
   "execution_count": 99,
   "metadata": {},
   "outputs": [
    {
     "name": "stderr",
     "output_type": "stream",
     "text": [
      "/var/folders/97/ptdvc_cd42985hl35hz5yztr0000gp/T/ipykernel_38268/3466721979.py:1: SettingWithCopyWarning: \n",
      "A value is trying to be set on a copy of a slice from a DataFrame.\n",
      "Try using .loc[row_indexer,col_indexer] = value instead\n",
      "\n",
      "See the caveats in the documentation: https://pandas.pydata.org/pandas-docs/stable/user_guide/indexing.html#returning-a-view-versus-a-copy\n",
      "  df_clean['LOS_VEL'] = los_vel\n"
     ]
    }
   ],
   "source": [
    "df_clean['LOS_VEL'] = los_vel"
   ]
  },
  {
   "cell_type": "code",
   "execution_count": 100,
   "metadata": {},
   "outputs": [
    {
     "data": {
      "text/html": [
       "<div>\n",
       "<style scoped>\n",
       "    .dataframe tbody tr th:only-of-type {\n",
       "        vertical-align: middle;\n",
       "    }\n",
       "\n",
       "    .dataframe tbody tr th {\n",
       "        vertical-align: top;\n",
       "    }\n",
       "\n",
       "    .dataframe thead th {\n",
       "        text-align: right;\n",
       "    }\n",
       "</style>\n",
       "<table border=\"1\" class=\"dataframe\">\n",
       "  <thead>\n",
       "    <tr style=\"text-align: right;\">\n",
       "      <th></th>\n",
       "      <th>ID</th>\n",
       "      <th>MIDASversion</th>\n",
       "      <th>first_epoch</th>\n",
       "      <th>last_epoch</th>\n",
       "      <th>duration_yrs</th>\n",
       "      <th>N_epochs</th>\n",
       "      <th>N_epochs_good</th>\n",
       "      <th>N_vel_pairs</th>\n",
       "      <th>Ve</th>\n",
       "      <th>Vn</th>\n",
       "      <th>...</th>\n",
       "      <th>N_frac_outliers</th>\n",
       "      <th>U_frac_outliers</th>\n",
       "      <th>E_std_vel_pairs</th>\n",
       "      <th>N_std_vel_pairs</th>\n",
       "      <th>U_std_vel_pairs</th>\n",
       "      <th>Nsteps</th>\n",
       "      <th>lat</th>\n",
       "      <th>lon</th>\n",
       "      <th>hgt_m</th>\n",
       "      <th>LOS_VEL</th>\n",
       "    </tr>\n",
       "  </thead>\n",
       "  <tbody>\n",
       "    <tr>\n",
       "      <th>352</th>\n",
       "      <td>ARBT</td>\n",
       "      <td>MIDAS5</td>\n",
       "      <td>2005.6044</td>\n",
       "      <td>2024.2902</td>\n",
       "      <td>18.6858</td>\n",
       "      <td>6450</td>\n",
       "      <td>6449</td>\n",
       "      <td>11684</td>\n",
       "      <td>-0.000353</td>\n",
       "      <td>0.001435</td>\n",
       "      <td>...</td>\n",
       "      <td>0.067</td>\n",
       "      <td>0.061</td>\n",
       "      <td>0.002074</td>\n",
       "      <td>0.002111</td>\n",
       "      <td>0.008537</td>\n",
       "      <td>1</td>\n",
       "      <td>35.709876</td>\n",
       "      <td>-91.628548</td>\n",
       "      <td>91.94339</td>\n",
       "      <td>0.000558</td>\n",
       "    </tr>\n",
       "    <tr>\n",
       "      <th>358</th>\n",
       "      <td>ARCT</td>\n",
       "      <td>MIDAS5</td>\n",
       "      <td>2016.7447</td>\n",
       "      <td>2023.5455</td>\n",
       "      <td>6.8008</td>\n",
       "      <td>2359</td>\n",
       "      <td>2359</td>\n",
       "      <td>4019</td>\n",
       "      <td>-0.000027</td>\n",
       "      <td>0.000891</td>\n",
       "      <td>...</td>\n",
       "      <td>0.052</td>\n",
       "      <td>0.150</td>\n",
       "      <td>0.002313</td>\n",
       "      <td>0.002442</td>\n",
       "      <td>0.008242</td>\n",
       "      <td>0</td>\n",
       "      <td>36.363941</td>\n",
       "      <td>-94.311402</td>\n",
       "      <td>391.90084</td>\n",
       "      <td>0.000570</td>\n",
       "    </tr>\n",
       "    <tr>\n",
       "      <th>362</th>\n",
       "      <td>ARDQ</td>\n",
       "      <td>MIDAS5</td>\n",
       "      <td>2019.1841</td>\n",
       "      <td>2024.2902</td>\n",
       "      <td>5.1061</td>\n",
       "      <td>1846</td>\n",
       "      <td>1846</td>\n",
       "      <td>2978</td>\n",
       "      <td>-0.000496</td>\n",
       "      <td>0.001099</td>\n",
       "      <td>...</td>\n",
       "      <td>0.036</td>\n",
       "      <td>0.036</td>\n",
       "      <td>0.002170</td>\n",
       "      <td>0.001950</td>\n",
       "      <td>0.007363</td>\n",
       "      <td>0</td>\n",
       "      <td>34.080088</td>\n",
       "      <td>-94.323693</td>\n",
       "      <td>147.62246</td>\n",
       "      <td>NaN</td>\n",
       "    </tr>\n",
       "    <tr>\n",
       "      <th>365</th>\n",
       "      <td>ARFY</td>\n",
       "      <td>MIDAS5</td>\n",
       "      <td>2005.6044</td>\n",
       "      <td>2024.2902</td>\n",
       "      <td>18.6858</td>\n",
       "      <td>6583</td>\n",
       "      <td>6582</td>\n",
       "      <td>11745</td>\n",
       "      <td>-0.000143</td>\n",
       "      <td>0.001221</td>\n",
       "      <td>...</td>\n",
       "      <td>0.045</td>\n",
       "      <td>0.045</td>\n",
       "      <td>0.001938</td>\n",
       "      <td>0.001978</td>\n",
       "      <td>0.007538</td>\n",
       "      <td>1</td>\n",
       "      <td>36.115798</td>\n",
       "      <td>-94.180048</td>\n",
       "      <td>349.52929</td>\n",
       "      <td>-0.000237</td>\n",
       "    </tr>\n",
       "    <tr>\n",
       "      <th>366</th>\n",
       "      <td>ARGS</td>\n",
       "      <td>MIDAS5</td>\n",
       "      <td>2018.4723</td>\n",
       "      <td>2024.2902</td>\n",
       "      <td>5.8179</td>\n",
       "      <td>2115</td>\n",
       "      <td>2115</td>\n",
       "      <td>3508</td>\n",
       "      <td>-0.001093</td>\n",
       "      <td>0.001444</td>\n",
       "      <td>...</td>\n",
       "      <td>0.040</td>\n",
       "      <td>0.048</td>\n",
       "      <td>0.002160</td>\n",
       "      <td>0.002156</td>\n",
       "      <td>0.007528</td>\n",
       "      <td>0</td>\n",
       "      <td>34.068199</td>\n",
       "      <td>-93.116178</td>\n",
       "      <td>69.32106</td>\n",
       "      <td>NaN</td>\n",
       "    </tr>\n",
       "  </tbody>\n",
       "</table>\n",
       "<p>5 rows × 28 columns</p>\n",
       "</div>"
      ],
      "text/plain": [
       "       ID MIDASversion  first_epoch  last_epoch  duration_yrs  N_epochs  \\\n",
       "352  ARBT       MIDAS5    2005.6044   2024.2902       18.6858      6450   \n",
       "358  ARCT       MIDAS5    2016.7447   2023.5455        6.8008      2359   \n",
       "362  ARDQ       MIDAS5    2019.1841   2024.2902        5.1061      1846   \n",
       "365  ARFY       MIDAS5    2005.6044   2024.2902       18.6858      6583   \n",
       "366  ARGS       MIDAS5    2018.4723   2024.2902        5.8179      2115   \n",
       "\n",
       "     N_epochs_good  N_vel_pairs        Ve        Vn  ...  N_frac_outliers  \\\n",
       "352           6449        11684 -0.000353  0.001435  ...            0.067   \n",
       "358           2359         4019 -0.000027  0.000891  ...            0.052   \n",
       "362           1846         2978 -0.000496  0.001099  ...            0.036   \n",
       "365           6582        11745 -0.000143  0.001221  ...            0.045   \n",
       "366           2115         3508 -0.001093  0.001444  ...            0.040   \n",
       "\n",
       "     U_frac_outliers  E_std_vel_pairs  N_std_vel_pairs  U_std_vel_pairs  \\\n",
       "352            0.061         0.002074         0.002111         0.008537   \n",
       "358            0.150         0.002313         0.002442         0.008242   \n",
       "362            0.036         0.002170         0.001950         0.007363   \n",
       "365            0.045         0.001938         0.001978         0.007538   \n",
       "366            0.048         0.002160         0.002156         0.007528   \n",
       "\n",
       "     Nsteps        lat        lon      hgt_m   LOS_VEL  \n",
       "352       1  35.709876 -91.628548   91.94339  0.000558  \n",
       "358       0  36.363941 -94.311402  391.90084  0.000570  \n",
       "362       0  34.080088 -94.323693  147.62246       NaN  \n",
       "365       1  36.115798 -94.180048  349.52929 -0.000237  \n",
       "366       0  34.068199 -93.116178   69.32106       NaN  \n",
       "\n",
       "[5 rows x 28 columns]"
      ]
     },
     "execution_count": 100,
     "metadata": {},
     "output_type": "execute_result"
    }
   ],
   "source": [
    "df_clean.head()"
   ]
  },
  {
   "cell_type": "code",
   "execution_count": 101,
   "metadata": {},
   "outputs": [
    {
     "data": {
      "text/plain": [
       "<matplotlib.collections.PathCollection at 0x186ad6f30>"
      ]
     },
     "execution_count": 101,
     "metadata": {},
     "output_type": "execute_result"
    },
    {
     "data": {
      "image/png": "[encoded data removed]",
      "text/plain": [
       "<Figure size 640x480 with 1 Axes>"
      ]
     },
     "metadata": {},
     "output_type": "display_data"
    }
   ],
   "source": [
    "plt.scatter(df_clean['lon'], df_clean['lat'], c=df_clean['LOS_VEL'], marker='o')"
   ]
  },
  {
   "cell_type": "code",
   "execution_count": 109,
   "metadata": {},
   "outputs": [
    {
     "name": "stdout",
     "output_type": "stream",
     "text": [
      "Mean GNSS LOS velocity is 0.56 mm/yr and st.dev. is 0.53\n"
     ]
    }
   ],
   "source": [
    "print('Mean GNSS LOS velocity is {:.2f} mm/yr and st.dev. is {:.2f}'.format(df_clean['LOS_VEL'].mean()*1000, df_clean['LOS_VEL'].std()*1000))"
   ]
  },
  {
   "cell_type": "code",
   "execution_count": null,
   "metadata": {},
   "outputs": [],
   "source": []
  }
 ],
 "metadata": {
  "colab": {
   "provenance": []
  },
  "kernelspec": {
   "display_name": "Python 3 (ipykernel)",
   "language": "python",
   "name": "python3"
  },
  "language_info": {
   "codemirror_mode": {
    "name": "ipython",
    "version": 3
   },
   "file_extension": ".py",
   "mimetype": "text/x-python",
   "name": "python",
   "nbconvert_exporter": "python",
   "pygments_lexer": "ipython3",
   "version": "3.12.4"
  }
 },
 "nbformat": 4,
 "nbformat_minor": 4
}
