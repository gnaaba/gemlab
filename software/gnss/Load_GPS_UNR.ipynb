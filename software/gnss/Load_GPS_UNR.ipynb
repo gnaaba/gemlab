{
 "cells": [
  {
   "cell_type": "code",
   "execution_count": 1,
   "metadata": {
    "id": "qidVspXpFrww"
   },
   "outputs": [],
   "source": [
    "import pandas as pd\n",
    "import numpy as np\n",
    "import matplotlib.pyplot as plt"
   ]
  },
  {
   "cell_type": "code",
   "execution_count": 2,
   "metadata": {
    "id": "f4fOS3SH_guQ"
   },
   "outputs": [],
   "source": [
    "# Functions that we'll need\n",
    "\n",
    "def mad(inp):\n",
    "  return np.median(np.abs(inp - np.median(inp)))\n",
    "\n",
    "def incAzToLOS(inc, az):\n",
    "  return"
   ]
  },
  {
   "cell_type": "markdown",
   "metadata": {
    "id": "OtXoP53O4yCc"
   },
   "source": []
  },
  {
   "cell_type": "code",
   "execution_count": 3,
   "metadata": {
    "id": "o6GHLJa_Vvaq"
   },
   "outputs": [],
   "source": [
    "# Load GNSS data from UNR.\n",
    "# Use GNSS data in North America reference frame\n",
    "data_file = 'http://geodesy.unr.edu/velocities/midas.NA.txt'"
   ]
  },
  {
   "cell_type": "code",
   "execution_count": 4,
   "metadata": {
    "id": "qw5XnTxTzdju"
   },
   "outputs": [],
   "source": [
    "# MIDAS velocity file format\n",
    "column_names = [\n",
    "    'ID',\n",
    "    'MIDASversion',\n",
    "    'first_epoch',\n",
    "    'last_epoch',\n",
    "    'duration_yrs',\n",
    "    'N_epochs',\n",
    "    'N_epochs_good',\n",
    "    'N_vel_pairs',\n",
    "    'Ve',\n",
    "    'Vn',\n",
    "    'Vu',\n",
    "    'Se',\n",
    "    'Sn',\n",
    "    'Su',\n",
    "    'E_initial_offset',\n",
    "    'N_initial_offset',\n",
    "    'U_initial_offset',\n",
    "    'E_frac_outliers',\n",
    "    'N_frac_outliers',\n",
    "    'U_frac_outliers',\n",
    "    'E_std_vel_pairs',\n",
    "    'N_std_vel_pairs',\n",
    "    'U_std_vel_pairs',\n",
    "    'Nsteps',\n",
    "    'lat',\n",
    "    'lon',\n",
    "    'hgt_m',\n",
    "  ]"
   ]
  },
  {
   "cell_type": "code",
   "execution_count": 5,
   "metadata": {
    "id": "z-u4rX8YV1VF"
   },
   "outputs": [],
   "source": [
    "df = pd.read_csv(data_file, names=column_names, sep='\\s+')"
   ]
  },
  {
   "cell_type": "code",
   "execution_count": 6,
   "metadata": {
    "colab": {
     "base_uri": "https://localhost:8080/",
     "height": 256
    },
    "id": "Er7a9jb1yW0O",
    "outputId": "1c0f4df4-68c6-4cd3-eded-b061faebf7b3"
   },
   "outputs": [
    {
     "data": {
      "text/html": [
       "<div>\n",
       "<style scoped>\n",
       "    .dataframe tbody tr th:only-of-type {\n",
       "        vertical-align: middle;\n",
       "    }\n",
       "\n",
       "    .dataframe tbody tr th {\n",
       "        vertical-align: top;\n",
       "    }\n",
       "\n",
       "    .dataframe thead th {\n",
       "        text-align: right;\n",
       "    }\n",
       "</style>\n",
       "<table border=\"1\" class=\"dataframe\">\n",
       "  <thead>\n",
       "    <tr style=\"text-align: right;\">\n",
       "      <th></th>\n",
       "      <th>ID</th>\n",
       "      <th>MIDASversion</th>\n",
       "      <th>first_epoch</th>\n",
       "      <th>last_epoch</th>\n",
       "      <th>duration_yrs</th>\n",
       "      <th>N_epochs</th>\n",
       "      <th>N_epochs_good</th>\n",
       "      <th>N_vel_pairs</th>\n",
       "      <th>Ve</th>\n",
       "      <th>Vn</th>\n",
       "      <th>...</th>\n",
       "      <th>E_frac_outliers</th>\n",
       "      <th>N_frac_outliers</th>\n",
       "      <th>U_frac_outliers</th>\n",
       "      <th>E_std_vel_pairs</th>\n",
       "      <th>N_std_vel_pairs</th>\n",
       "      <th>U_std_vel_pairs</th>\n",
       "      <th>Nsteps</th>\n",
       "      <th>lat</th>\n",
       "      <th>lon</th>\n",
       "      <th>hgt_m</th>\n",
       "    </tr>\n",
       "  </thead>\n",
       "  <tbody>\n",
       "    <tr>\n",
       "      <th>0</th>\n",
       "      <td>1LSU</td>\n",
       "      <td>MIDAS5</td>\n",
       "      <td>2003.3073</td>\n",
       "      <td>2024.2902</td>\n",
       "      <td>20.9829</td>\n",
       "      <td>7199</td>\n",
       "      <td>6228</td>\n",
       "      <td>8623</td>\n",
       "      <td>-0.000805</td>\n",
       "      <td>0.001503</td>\n",
       "      <td>...</td>\n",
       "      <td>0.042</td>\n",
       "      <td>0.044</td>\n",
       "      <td>0.057</td>\n",
       "      <td>0.003930</td>\n",
       "      <td>0.003065</td>\n",
       "      <td>0.008758</td>\n",
       "      <td>10</td>\n",
       "      <td>30.407425</td>\n",
       "      <td>-91.180262</td>\n",
       "      <td>-6.56646</td>\n",
       "    </tr>\n",
       "    <tr>\n",
       "      <th>1</th>\n",
       "      <td>1NSU</td>\n",
       "      <td>MIDAS5</td>\n",
       "      <td>2004.0411</td>\n",
       "      <td>2024.2902</td>\n",
       "      <td>20.2491</td>\n",
       "      <td>7274</td>\n",
       "      <td>7213</td>\n",
       "      <td>10928</td>\n",
       "      <td>-0.000807</td>\n",
       "      <td>0.002402</td>\n",
       "      <td>...</td>\n",
       "      <td>0.048</td>\n",
       "      <td>0.044</td>\n",
       "      <td>0.046</td>\n",
       "      <td>0.002117</td>\n",
       "      <td>0.002022</td>\n",
       "      <td>0.007338</td>\n",
       "      <td>4</td>\n",
       "      <td>31.750801</td>\n",
       "      <td>-93.097604</td>\n",
       "      <td>28.04620</td>\n",
       "    </tr>\n",
       "    <tr>\n",
       "      <th>2</th>\n",
       "      <td>1ULM</td>\n",
       "      <td>MIDAS5</td>\n",
       "      <td>2003.4497</td>\n",
       "      <td>2024.2902</td>\n",
       "      <td>20.8405</td>\n",
       "      <td>7375</td>\n",
       "      <td>7372</td>\n",
       "      <td>11250</td>\n",
       "      <td>-0.000549</td>\n",
       "      <td>0.001587</td>\n",
       "      <td>...</td>\n",
       "      <td>0.048</td>\n",
       "      <td>0.054</td>\n",
       "      <td>0.045</td>\n",
       "      <td>0.002181</td>\n",
       "      <td>0.001886</td>\n",
       "      <td>0.007473</td>\n",
       "      <td>4</td>\n",
       "      <td>32.529034</td>\n",
       "      <td>-92.075907</td>\n",
       "      <td>15.97255</td>\n",
       "    </tr>\n",
       "    <tr>\n",
       "      <th>3</th>\n",
       "      <td>299C</td>\n",
       "      <td>MIDAS5</td>\n",
       "      <td>2003.0308</td>\n",
       "      <td>2007.0856</td>\n",
       "      <td>4.0548</td>\n",
       "      <td>1408</td>\n",
       "      <td>1408</td>\n",
       "      <td>2159</td>\n",
       "      <td>0.006539</td>\n",
       "      <td>-0.001731</td>\n",
       "      <td>...</td>\n",
       "      <td>0.127</td>\n",
       "      <td>0.066</td>\n",
       "      <td>0.095</td>\n",
       "      <td>0.002195</td>\n",
       "      <td>0.001951</td>\n",
       "      <td>0.008442</td>\n",
       "      <td>0</td>\n",
       "      <td>64.028926</td>\n",
       "      <td>-142.075778</td>\n",
       "      <td>748.13639</td>\n",
       "    </tr>\n",
       "    <tr>\n",
       "      <th>4</th>\n",
       "      <td>3RIV</td>\n",
       "      <td>MIDAS5</td>\n",
       "      <td>1994.8172</td>\n",
       "      <td>2015.6715</td>\n",
       "      <td>20.8543</td>\n",
       "      <td>30</td>\n",
       "      <td>30</td>\n",
       "      <td>56</td>\n",
       "      <td>0.000401</td>\n",
       "      <td>-0.000723</td>\n",
       "      <td>...</td>\n",
       "      <td>0.000</td>\n",
       "      <td>0.143</td>\n",
       "      <td>0.125</td>\n",
       "      <td>0.000637</td>\n",
       "      <td>0.000428</td>\n",
       "      <td>0.001442</td>\n",
       "      <td>0</td>\n",
       "      <td>46.314763</td>\n",
       "      <td>-72.576085</td>\n",
       "      <td>-21.73074</td>\n",
       "    </tr>\n",
       "  </tbody>\n",
       "</table>\n",
       "<p>5 rows × 27 columns</p>\n",
       "</div>"
      ],
      "text/plain": [
       "     ID MIDASversion  first_epoch  last_epoch  duration_yrs  N_epochs   \n",
       "0  1LSU       MIDAS5    2003.3073   2024.2902       20.9829      7199  \\\n",
       "1  1NSU       MIDAS5    2004.0411   2024.2902       20.2491      7274   \n",
       "2  1ULM       MIDAS5    2003.4497   2024.2902       20.8405      7375   \n",
       "3  299C       MIDAS5    2003.0308   2007.0856        4.0548      1408   \n",
       "4  3RIV       MIDAS5    1994.8172   2015.6715       20.8543        30   \n",
       "\n",
       "   N_epochs_good  N_vel_pairs        Ve        Vn  ...  E_frac_outliers   \n",
       "0           6228         8623 -0.000805  0.001503  ...            0.042  \\\n",
       "1           7213        10928 -0.000807  0.002402  ...            0.048   \n",
       "2           7372        11250 -0.000549  0.001587  ...            0.048   \n",
       "3           1408         2159  0.006539 -0.001731  ...            0.127   \n",
       "4             30           56  0.000401 -0.000723  ...            0.000   \n",
       "\n",
       "   N_frac_outliers  U_frac_outliers  E_std_vel_pairs  N_std_vel_pairs   \n",
       "0            0.044            0.057         0.003930         0.003065  \\\n",
       "1            0.044            0.046         0.002117         0.002022   \n",
       "2            0.054            0.045         0.002181         0.001886   \n",
       "3            0.066            0.095         0.002195         0.001951   \n",
       "4            0.143            0.125         0.000637         0.000428   \n",
       "\n",
       "   U_std_vel_pairs  Nsteps        lat         lon      hgt_m  \n",
       "0         0.008758      10  30.407425  -91.180262   -6.56646  \n",
       "1         0.007338       4  31.750801  -93.097604   28.04620  \n",
       "2         0.007473       4  32.529034  -92.075907   15.97255  \n",
       "3         0.008442       0  64.028926 -142.075778  748.13639  \n",
       "4         0.001442       0  46.314763  -72.576085  -21.73074  \n",
       "\n",
       "[5 rows x 27 columns]"
      ]
     },
     "execution_count": 6,
     "metadata": {},
     "output_type": "execute_result"
    }
   ],
   "source": [
    "df.head()"
   ]
  },
  {
   "cell_type": "code",
   "execution_count": 7,
   "metadata": {
    "id": "NMKncz9RWUIk"
   },
   "outputs": [],
   "source": [
    "# Define the region of interst (AOI)\n",
    "lat_north = 44\n",
    "lat_south = 40\n",
    "lon_west = -95\n",
    "lon_east = -90"
   ]
  },
  {
   "cell_type": "code",
   "execution_count": 8,
   "metadata": {
    "colab": {
     "base_uri": "https://localhost:8080/",
     "height": 273
    },
    "id": "ndqtgINLw8Qw",
    "outputId": "0a49293b-ecd8-43d3-9c90-2cee6fcf83a2"
   },
   "outputs": [
    {
     "name": "stdout",
     "output_type": "stream",
     "text": [
      "189\n"
     ]
    },
    {
     "data": {
      "text/html": [
       "<div>\n",
       "<style scoped>\n",
       "    .dataframe tbody tr th:only-of-type {\n",
       "        vertical-align: middle;\n",
       "    }\n",
       "\n",
       "    .dataframe tbody tr th {\n",
       "        vertical-align: top;\n",
       "    }\n",
       "\n",
       "    .dataframe thead th {\n",
       "        text-align: right;\n",
       "    }\n",
       "</style>\n",
       "<table border=\"1\" class=\"dataframe\">\n",
       "  <thead>\n",
       "    <tr style=\"text-align: right;\">\n",
       "      <th></th>\n",
       "      <th>ID</th>\n",
       "      <th>MIDASversion</th>\n",
       "      <th>first_epoch</th>\n",
       "      <th>last_epoch</th>\n",
       "      <th>duration_yrs</th>\n",
       "      <th>N_epochs</th>\n",
       "      <th>N_epochs_good</th>\n",
       "      <th>N_vel_pairs</th>\n",
       "      <th>Ve</th>\n",
       "      <th>Vn</th>\n",
       "      <th>...</th>\n",
       "      <th>E_frac_outliers</th>\n",
       "      <th>N_frac_outliers</th>\n",
       "      <th>U_frac_outliers</th>\n",
       "      <th>E_std_vel_pairs</th>\n",
       "      <th>N_std_vel_pairs</th>\n",
       "      <th>U_std_vel_pairs</th>\n",
       "      <th>Nsteps</th>\n",
       "      <th>lat</th>\n",
       "      <th>lon</th>\n",
       "      <th>hgt_m</th>\n",
       "    </tr>\n",
       "  </thead>\n",
       "  <tbody>\n",
       "    <tr>\n",
       "      <th>249</th>\n",
       "      <td>ALBL</td>\n",
       "      <td>MIDAS5</td>\n",
       "      <td>2013.4921</td>\n",
       "      <td>2015.1786</td>\n",
       "      <td>1.6865</td>\n",
       "      <td>601</td>\n",
       "      <td>490</td>\n",
       "      <td>490</td>\n",
       "      <td>-0.000424</td>\n",
       "      <td>0.001209</td>\n",
       "      <td>...</td>\n",
       "      <td>0.020</td>\n",
       "      <td>0.029</td>\n",
       "      <td>0.067</td>\n",
       "      <td>0.001785</td>\n",
       "      <td>0.001849</td>\n",
       "      <td>0.006682</td>\n",
       "      <td>0</td>\n",
       "      <td>43.676566</td>\n",
       "      <td>-93.329738</td>\n",
       "      <td>371.52002</td>\n",
       "    </tr>\n",
       "    <tr>\n",
       "      <th>305</th>\n",
       "      <td>AMES</td>\n",
       "      <td>MIDAS5</td>\n",
       "      <td>2014.5489</td>\n",
       "      <td>2016.2601</td>\n",
       "      <td>1.7112</td>\n",
       "      <td>609</td>\n",
       "      <td>505</td>\n",
       "      <td>505</td>\n",
       "      <td>0.000973</td>\n",
       "      <td>0.003308</td>\n",
       "      <td>...</td>\n",
       "      <td>0.097</td>\n",
       "      <td>0.139</td>\n",
       "      <td>0.055</td>\n",
       "      <td>0.002048</td>\n",
       "      <td>0.002114</td>\n",
       "      <td>0.005998</td>\n",
       "      <td>0</td>\n",
       "      <td>41.983130</td>\n",
       "      <td>-93.683558</td>\n",
       "      <td>288.21775</td>\n",
       "    </tr>\n",
       "    <tr>\n",
       "      <th>740</th>\n",
       "      <td>BLRW</td>\n",
       "      <td>MIDAS5</td>\n",
       "      <td>1999.5702</td>\n",
       "      <td>2010.6858</td>\n",
       "      <td>11.1156</td>\n",
       "      <td>3507</td>\n",
       "      <td>3507</td>\n",
       "      <td>6556</td>\n",
       "      <td>0.000206</td>\n",
       "      <td>0.000689</td>\n",
       "      <td>...</td>\n",
       "      <td>0.106</td>\n",
       "      <td>0.083</td>\n",
       "      <td>0.059</td>\n",
       "      <td>0.003326</td>\n",
       "      <td>0.002656</td>\n",
       "      <td>0.008880</td>\n",
       "      <td>0</td>\n",
       "      <td>43.230253</td>\n",
       "      <td>-90.530780</td>\n",
       "      <td>190.66125</td>\n",
       "    </tr>\n",
       "    <tr>\n",
       "      <th>1556</th>\n",
       "      <td>DOLE</td>\n",
       "      <td>MIDAS5</td>\n",
       "      <td>2010.2286</td>\n",
       "      <td>2024.2875</td>\n",
       "      <td>14.0589</td>\n",
       "      <td>4468</td>\n",
       "      <td>4468</td>\n",
       "      <td>8506</td>\n",
       "      <td>0.000277</td>\n",
       "      <td>0.001024</td>\n",
       "      <td>...</td>\n",
       "      <td>0.050</td>\n",
       "      <td>0.044</td>\n",
       "      <td>0.052</td>\n",
       "      <td>0.001842</td>\n",
       "      <td>0.001800</td>\n",
       "      <td>0.006756</td>\n",
       "      <td>0</td>\n",
       "      <td>42.978123</td>\n",
       "      <td>-90.128172</td>\n",
       "      <td>348.14280</td>\n",
       "    </tr>\n",
       "    <tr>\n",
       "      <th>1710</th>\n",
       "      <td>ELKT</td>\n",
       "      <td>MIDAS5</td>\n",
       "      <td>2008.1533</td>\n",
       "      <td>2024.3778</td>\n",
       "      <td>16.2245</td>\n",
       "      <td>4873</td>\n",
       "      <td>4873</td>\n",
       "      <td>9360</td>\n",
       "      <td>0.000219</td>\n",
       "      <td>0.000902</td>\n",
       "      <td>...</td>\n",
       "      <td>0.079</td>\n",
       "      <td>0.047</td>\n",
       "      <td>0.054</td>\n",
       "      <td>0.002050</td>\n",
       "      <td>0.002148</td>\n",
       "      <td>0.007240</td>\n",
       "      <td>0</td>\n",
       "      <td>43.658339</td>\n",
       "      <td>-92.688743</td>\n",
       "      <td>402.74655</td>\n",
       "    </tr>\n",
       "  </tbody>\n",
       "</table>\n",
       "<p>5 rows × 27 columns</p>\n",
       "</div>"
      ],
      "text/plain": [
       "        ID MIDASversion  first_epoch  last_epoch  duration_yrs  N_epochs   \n",
       "249   ALBL       MIDAS5    2013.4921   2015.1786        1.6865       601  \\\n",
       "305   AMES       MIDAS5    2014.5489   2016.2601        1.7112       609   \n",
       "740   BLRW       MIDAS5    1999.5702   2010.6858       11.1156      3507   \n",
       "1556  DOLE       MIDAS5    2010.2286   2024.2875       14.0589      4468   \n",
       "1710  ELKT       MIDAS5    2008.1533   2024.3778       16.2245      4873   \n",
       "\n",
       "      N_epochs_good  N_vel_pairs        Ve        Vn  ...  E_frac_outliers   \n",
       "249             490          490 -0.000424  0.001209  ...            0.020  \\\n",
       "305             505          505  0.000973  0.003308  ...            0.097   \n",
       "740            3507         6556  0.000206  0.000689  ...            0.106   \n",
       "1556           4468         8506  0.000277  0.001024  ...            0.050   \n",
       "1710           4873         9360  0.000219  0.000902  ...            0.079   \n",
       "\n",
       "      N_frac_outliers  U_frac_outliers  E_std_vel_pairs  N_std_vel_pairs   \n",
       "249             0.029            0.067         0.001785         0.001849  \\\n",
       "305             0.139            0.055         0.002048         0.002114   \n",
       "740             0.083            0.059         0.003326         0.002656   \n",
       "1556            0.044            0.052         0.001842         0.001800   \n",
       "1710            0.047            0.054         0.002050         0.002148   \n",
       "\n",
       "      U_std_vel_pairs  Nsteps        lat        lon      hgt_m  \n",
       "249          0.006682       0  43.676566 -93.329738  371.52002  \n",
       "305          0.005998       0  41.983130 -93.683558  288.21775  \n",
       "740          0.008880       0  43.230253 -90.530780  190.66125  \n",
       "1556         0.006756       0  42.978123 -90.128172  348.14280  \n",
       "1710         0.007240       0  43.658339 -92.688743  402.74655  \n",
       "\n",
       "[5 rows x 27 columns]"
      ]
     },
     "execution_count": 8,
     "metadata": {},
     "output_type": "execute_result"
    }
   ],
   "source": [
    "mask = (df['lat'] < lat_north) & (df['lat'] > lat_south) & (df['lon'] < lon_east) & (df['lon'] > lon_west)\n",
    "df_bbox = df[mask]\n",
    "print(len(df_bbox))\n",
    "df_bbox.head()"
   ]
  },
  {
   "cell_type": "code",
   "execution_count": 9,
   "metadata": {
    "colab": {
     "base_uri": "https://localhost:8080/",
     "height": 448
    },
    "id": "BkfSDyVNBM72",
    "outputId": "1c2b8807-427d-45ae-99c5-376a3a679f1e"
   },
   "outputs": [
    {
     "data": {
      "text/plain": [
       "<matplotlib.quiver.Quiver at 0x16ed0a590>"
      ]
     },
     "execution_count": 9,
     "metadata": {},
     "output_type": "execute_result"
    },
    {
     "data": {
      "image/png": "[encoded data removed]",
      "text/plain": [
       "<Figure size 640x480 with 1 Axes>"
      ]
     },
     "metadata": {},
     "output_type": "display_data"
    }
   ],
   "source": [
    "plt.quiver(df_bbox['lon'], df_bbox['lat'], df_bbox['Ve'], df_bbox['Vn'])"
   ]
  },
  {
   "cell_type": "code",
   "execution_count": 10,
   "metadata": {
    "colab": {
     "base_uri": "https://localhost:8080/"
    },
    "id": "0PEaVKCIB0VJ",
    "outputId": "8a402a2d-e416-4c48-9b04-1d073e038a75"
   },
   "outputs": [
    {
     "name": "stdout",
     "output_type": "stream",
     "text": [
      "Mean easting velocity: 0.39 mm/yr\n",
      "Mean northing velocity: 1.27 mm/yr\n",
      "Std easting velocity: 1.59 mm/yr\n",
      "Std northing velocity: 1.11 mm/yr\n"
     ]
    }
   ],
   "source": [
    "# Need to remove outlier velocities\n",
    "mean_ve = df_bbox['Ve'].mean()\n",
    "mean_vn = df_bbox['Vn'].mean()\n",
    "std_ve = df_bbox['Ve'].std()\n",
    "std_vn = df_bbox['Vn'].std()\n",
    "\n",
    "print('Mean easting velocity: {:.2f} mm/yr'.format(mean_ve*1000))\n",
    "print('Mean northing velocity: {:.2f} mm/yr'.format(mean_vn*1000))\n",
    "print('Std easting velocity: {:.2f} mm/yr'.format(std_ve*1000))\n",
    "print('Std northing velocity: {:.2f} mm/yr'.format(std_vn*1000))"
   ]
  },
  {
   "cell_type": "code",
   "execution_count": 11,
   "metadata": {
    "colab": {
     "base_uri": "https://localhost:8080/"
    },
    "id": "3vnmKJix0Z-k",
    "outputId": "dd70c0af-dfc1-414e-bbe7-fb78e68b182d"
   },
   "outputs": [
    {
     "name": "stdout",
     "output_type": "stream",
     "text": [
      "Mean sigma_east: 0.27 mm/yr\n",
      "Mean sigma_north: 0.27 mm/yr\n"
     ]
    }
   ],
   "source": [
    "print('Mean sigma_east: {:.2f} mm/yr'.format(df_bbox['Se'].mean()*1000))\n",
    "print('Mean sigma_north: {:.2f} mm/yr'.format(df_bbox['Sn'].mean()*1000))"
   ]
  },
  {
   "cell_type": "code",
   "execution_count": 12,
   "metadata": {
    "colab": {
     "base_uri": "https://localhost:8080/"
    },
    "id": "e6_Hxlv4x7j3",
    "outputId": "13cdbedb-def3-4cc8-ed25-70416b84db81"
   },
   "outputs": [
    {
     "name": "stdout",
     "output_type": "stream",
     "text": [
      "189\n",
      "7\n",
      "2\n",
      "24\n",
      "17\n",
      "5\n"
     ]
    }
   ],
   "source": [
    "outlier_mask_1 = (df_bbox['Ve'] > mean_ve + 2 * std_ve) | (df_bbox['Ve'] < mean_ve - 2 * std_ve) | (df_bbox['Vn'] > mean_vn + 2 * std_vn) | (df_bbox['Vn'] < mean_vn - 2 * std_vn)\n",
    "outlier_mask_2 = (df_bbox['Se']*1000 > 1) | (df_bbox['Sn']*1000 > 1)\n",
    "outlier_mask_3 = df_bbox['duration_yrs'] < 5\n",
    "outlier_mask_4 = df_bbox['N_epochs_good'] < 1000\n",
    "\n",
    "outlier_mask_5 = df_bbox['Vn'] < 0 # this will only work for NA-reference velocities in this area\n",
    "\n",
    "print(len(df_bbox))\n",
    "print(np.sum(outlier_mask_1))\n",
    "print(np.sum(outlier_mask_2))\n",
    "print(np.sum(outlier_mask_3))\n",
    "print(np.sum(outlier_mask_4))\n",
    "print(np.sum(outlier_mask_5))\n",
    "\n",
    "outlier_mask = outlier_mask_1 | outlier_mask_2 | outlier_mask_3 | outlier_mask_4 | outlier_mask_5"
   ]
  },
  {
   "cell_type": "code",
   "execution_count": 13,
   "metadata": {
    "id": "vUm7c7nrzF3m"
   },
   "outputs": [],
   "source": [
    "df_clean = df_bbox[~outlier_mask]"
   ]
  },
  {
   "cell_type": "code",
   "execution_count": 14,
   "metadata": {
    "colab": {
     "base_uri": "https://localhost:8080/",
     "height": 448
    },
    "id": "2SswccomC5fu",
    "outputId": "1b074293-4bae-4afc-df83-b39ad247c8f5"
   },
   "outputs": [
    {
     "data": {
      "text/plain": [
       "<matplotlib.quiver.Quiver at 0x16ef4ce20>"
      ]
     },
     "execution_count": 14,
     "metadata": {},
     "output_type": "execute_result"
    },
    {
     "data": {
      "image/png": "[encoded data removed]",
      "text/plain": [
       "<Figure size 640x480 with 1 Axes>"
      ]
     },
     "metadata": {},
     "output_type": "display_data"
    }
   ],
   "source": [
    "plt.quiver(df_clean['lon'], df_clean['lat'], df_clean['Ve'], df_clean['Vn'])"
   ]
  },
  {
   "cell_type": "code",
   "execution_count": 15,
   "metadata": {
    "colab": {
     "base_uri": "https://localhost:8080/"
    },
    "id": "QpmY2xNW_D3_",
    "outputId": "b5f71c64-1fe3-4805-dea3-eec19aea7260"
   },
   "outputs": [
    {
     "name": "stdout",
     "output_type": "stream",
     "text": [
      "Mean easting velocity is 0.22 mm/yr\n",
      "Mean northing velocity is 1.19 mm/yr\n",
      "Mean sigma_east is 0.20 mm/yr\n",
      "Mean sigma_north is 0.19 mm/yr\n",
      "Variablity in Veast is 0.11 mm/yr\n",
      "Variablity in Vnorth is 0.17 mm/yr\n",
      "Std of Veast is 0.37 mm/yr\n",
      "Std of Veast is 0.36 mm/yr\n"
     ]
    }
   ],
   "source": [
    "print('Mean easting velocity is {:.2f} mm/yr'.format(np.median(df_clean['Ve'] * 1000)))\n",
    "print('Mean northing velocity is {:.2f} mm/yr'.format(np.median(df_clean['Vn'] * 1000)))\n",
    "\n",
    "print('Mean sigma_east is {:.2f} mm/yr'.format(np.median(df_clean['Se'] * 1000)))\n",
    "print('Mean sigma_north is {:.2f} mm/yr'.format(np.median(df_clean['Sn'] * 1000)))\n",
    "\n",
    "print('Variablity in Veast is {:.2f} mm/yr'.format(mad(df_clean['Ve'] * 1000)))\n",
    "print('Variablity in Vnorth is {:.2f} mm/yr'.format(mad(df_clean['Vn'] * 1000)))\n",
    "\n",
    "print('Std of Veast is {:.2f} mm/yr'.format(df_clean['Ve'].std() * 1000))\n",
    "print('Std of Veast is {:.2f} mm/yr'.format(df_clean['Vn'].std() * 1000))"
   ]
  },
  {
   "cell_type": "markdown",
   "metadata": {
    "id": "QBuKeXikFOBf"
   },
   "source": [
    "Steps:\n",
    "1. Remove stations with errors OR with high uncertainty\n",
    "2. Project velocities into the line-of-sight of our insar velocities\n",
    "3. Put the Insar velocities into the GNSS frame of reference\n",
    "  - solve for a plane parameter of the difference"
   ]
  },
  {
   "cell_type": "code",
   "execution_count": null,
   "metadata": {
    "id": "0YBEdF3H3zil"
   },
   "outputs": [],
   "source": [
    "# Need to calculate the LOS vectors from incidence and heading rasters\n",
    "inc_raster = None\n",
    "az_raster = None\n",
    "\n",
    "LOSx, LOSy, LOSz = None, None, None"
   ]
  },
  {
   "cell_type": "markdown",
   "metadata": {},
   "source": [
    "LOS velocity is what you need to compare GNSS velocities with InSAR velocities and put the InSAR velocities into an absolute reference frame (i.e. not relative to the reference pixel anymore). "
   ]
  },
  {
   "cell_type": "code",
   "execution_count": null,
   "metadata": {
    "id": "iyFC3_6E4ND2"
   },
   "outputs": [],
   "source": [
    "los_vel = df_clean['Ve'] * LOSx + df_clean['Vn'] * LOSy + df_clean['Vu'] * LOSz"
   ]
  }
 ],
 "metadata": {
  "colab": {
   "provenance": []
  },
  "kernelspec": {
   "display_name": "Python 3 (ipykernel)",
   "language": "python",
   "name": "python3"
  },
  "language_info": {
   "codemirror_mode": {
    "name": "ipython",
    "version": 3
   },
   "file_extension": ".py",
   "mimetype": "text/x-python",
   "name": "python",
   "nbconvert_exporter": "python",
   "pygments_lexer": "ipython3",
   "version": "3.10.11"
  }
 },
 "nbformat": 4,
 "nbformat_minor": 4
}
